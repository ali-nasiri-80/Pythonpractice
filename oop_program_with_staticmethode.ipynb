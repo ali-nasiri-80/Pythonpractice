{
 "cells": [
  {
   "cell_type": "code",
   "execution_count": 67,
   "id": "22840df5-da45-4213-ae30-1c46d624348a",
   "metadata": {},
   "outputs": [],
   "source": [
    "import math\n",
    "class Math:\n",
    "    def __init__(self,number):\n",
    "        self.number = number\n",
    "    \n",
    "    staticmethod\n",
    "    def is_Odd(self):\n",
    "        if self.number % 2 !=0:\n",
    "            return f\"\\nis Odd:{self.number}\"\n",
    "        else:\n",
    "            return f\"\\nis Even{self.number}\"\n",
    "    \n",
    "    staticmethod\n",
    "    def is_Even(self):\n",
    "        if self.number % 2 ==0:\n",
    "            return f\"\\nis Even:{self.number}\"\n",
    "        else:\n",
    "            return f\"\\nis Odd{self.number}\"\n",
    "    \n",
    "    \n",
    "    staticmethod\n",
    "    def is_Square(self):\n",
    "        for i in range(1,self.number):\n",
    "            \n",
    "            if math.sqrt(float(self.number)) % i ==0:\n",
    "                \n",
    "                return f\"\\nis sqare:{self.number}\"\n",
    "        else:\n",
    "            return f\"\\nis not sqare:{self.number}\"\n",
    "    \n",
    "    staticmethod\n",
    "    def is_Perfect(self):\n",
    "        sum = 0\n",
    "        for i in range(1,self.number):\n",
    "            if self.number % i == 0:\n",
    "                sum+=i\n",
    "        if self.number == sum:\n",
    "            return f\"\\nis perfect:{self.number}\"\n",
    "        else:\n",
    "            return f\"\\nis not perfect:{self.number}\"\n",
    "                    "
   ]
  },
  {
   "cell_type": "code",
   "execution_count": 80,
   "id": "d15e8cc5-8734-4554-80a0-1bc23ebff160",
   "metadata": {},
   "outputs": [
    {
     "data": {
      "text/plain": [
       "'is perfect:6'"
      ]
     },
     "execution_count": 80,
     "metadata": {},
     "output_type": "execute_result"
    }
   ],
   "source": [
    " ##get = int(input(\"Enter the number \"))\n",
    "Math(6).is_Perfect()\n",
    "Math(25).is_Odd()\n",
    "Math(25).is_Even()\n",
    "Math(25).is_Square()\n"
   ]
  }
 ],
 "metadata": {
  "kernelspec": {
   "display_name": "Python 3 (ipykernel)",
   "language": "python",
   "name": "python3"
  },
  "language_info": {
   "codemirror_mode": {
    "name": "ipython",
    "version": 3
   },
   "file_extension": ".py",
   "mimetype": "text/x-python",
   "name": "python",
   "nbconvert_exporter": "python",
   "pygments_lexer": "ipython3",
   "version": "3.10.12"
  }
 },
 "nbformat": 4,
 "nbformat_minor": 5
}
